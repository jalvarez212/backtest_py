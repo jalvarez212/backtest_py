{
 "cells": [
  {
   "cell_type": "code",
   "execution_count": 1,
   "id": "atomic-saudi",
   "metadata": {
    "scrolled": true
   },
   "outputs": [
    {
     "name": "stdout",
     "output_type": "stream",
     "text": [
      "Requirement already satisfied: pandas in /Library/Frameworks/Python.framework/Versions/3.8/lib/python3.8/site-packages (1.2.2)\n",
      "Requirement already satisfied: python-dateutil>=2.7.3 in /Library/Frameworks/Python.framework/Versions/3.8/lib/python3.8/site-packages (from pandas) (2.8.1)\n",
      "Requirement already satisfied: numpy>=1.16.5 in /Library/Frameworks/Python.framework/Versions/3.8/lib/python3.8/site-packages (from pandas) (1.20.1)\n",
      "Requirement already satisfied: pytz>=2017.3 in /Library/Frameworks/Python.framework/Versions/3.8/lib/python3.8/site-packages (from pandas) (2021.1)\n",
      "Requirement already satisfied: six>=1.5 in /Users/jcalvare/Library/Python/3.8/lib/python/site-packages (from python-dateutil>=2.7.3->pandas) (1.15.0)\n",
      "\u001b[33mWARNING: You are using pip version 19.2.3, however version 21.0.1 is available.\n",
      "You should consider upgrading via the 'pip install --upgrade pip' command.\u001b[0m\n",
      "Note: you may need to restart the kernel to use updated packages.\n"
     ]
    }
   ],
   "source": [
    "pip install pandas"
   ]
  },
  {
   "cell_type": "code",
   "execution_count": 2,
   "id": "green-balloon",
   "metadata": {
    "scrolled": true
   },
   "outputs": [
    {
     "name": "stdout",
     "output_type": "stream",
     "text": [
      "Requirement already satisfied: numpy in /Library/Frameworks/Python.framework/Versions/3.8/lib/python3.8/site-packages (1.20.1)\n",
      "\u001b[33mWARNING: You are using pip version 19.2.3, however version 21.0.1 is available.\n",
      "You should consider upgrading via the 'pip install --upgrade pip' command.\u001b[0m\n",
      "Note: you may need to restart the kernel to use updated packages.\n"
     ]
    }
   ],
   "source": [
    "pip install numpy"
   ]
  },
  {
   "cell_type": "code",
   "execution_count": 3,
   "id": "aware-bible",
   "metadata": {
    "scrolled": true
   },
   "outputs": [],
   "source": [
    "import pandas as pd\n",
    "import numpy as np"
   ]
  },
  {
   "cell_type": "code",
   "execution_count": 11,
   "id": "rational-baptist",
   "metadata": {
    "scrolled": true
   },
   "outputs": [
    {
     "name": "stdout",
     "output_type": "stream",
     "text": [
      "<generator object DataFrame.iterrows at 0x11ac1f9e0>\n",
      "1\n",
      "proft: 0.00010000000000000286\n",
      "status: usd\n",
      "--------------------------\n",
      "83\n",
      "proft: 0.00020000000000000573\n",
      "status: usd\n",
      "--------------------------\n",
      "516\n",
      "proft: 0.0003000000000000086\n",
      "status: usd\n",
      "--------------------------\n",
      "545\n",
      "proft: 0.00040000000000001146\n",
      "status: usd\n",
      "--------------------------\n",
      "992\n",
      "proft: 0.0005000000000000143\n",
      "status: usd\n",
      "--------------------------\n",
      "1021\n",
      "proft: 0.0006000000000000172\n",
      "status: usd\n",
      "--------------------------\n",
      "1032\n",
      "proft: 0.00070000000000002\n",
      "status: usd\n",
      "--------------------------\n",
      "1118\n",
      "proft: 0.0008000000000000229\n",
      "status: usd\n",
      "--------------------------\n",
      "1141\n",
      "proft: 0.0009000000000000258\n",
      "status: usd\n",
      "--------------------------\n"
     ]
    },
    {
     "data": {
      "text/plain": [
       "0.0009000000000000258"
      ]
     },
     "execution_count": 11,
     "metadata": {},
     "output_type": "execute_result"
    }
   ],
   "source": [
    "# Load datas\n",
    "df = pd.read_csv('ETHBTC_5min.csv', sep=',')\n",
    "r = df.iterrows()\n",
    "print(r)\n",
    "#print(len(df))\n",
    "\n",
    "\n",
    "\n",
    "def i(x):\n",
    "    index = 0\n",
    "    position_size = 0\n",
    "    buffer = 0\n",
    "    status = 'usd'\n",
    "    profit = 0\n",
    "    buy_price = 0\n",
    "    sell_price = 0\n",
    "    for row in r:\n",
    "        index += 1\n",
    "        if row[1][3] < row[1][6] and status == 'usd':\n",
    "            #index +=1\n",
    "            close_price = row[1][3]\n",
    "            lower_band = row[1][6]\n",
    "            buy_price = next(r)[1][0] \n",
    "            sell_price = buy_price + x # x is equal to the sell price\n",
    "            status = 'jpy'\n",
    "            \n",
    "            #print('buy price: '+str(buy_price))\n",
    "            #print('sell price: '+str(sell_price))\n",
    "            #print('status: '+status)\n",
    "            #print('--------------------------')\n",
    "        \n",
    "            position_size += 100\n",
    "            buffer += buy_price\n",
    "            avg_price = buffer/index\n",
    "            \n",
    "        if row[1][1] > sell_price and status == 'jpy':\n",
    "            profit += sell_price - buy_price # y is equal to the proft\n",
    "            status = 'usd'\n",
    "            print(index)\n",
    "            print('proft: '+str(profit))\n",
    "            print('status: '+status)\n",
    "            print('--------------------------')\n",
    "    return profit\n",
    "            \n",
    "                    \n",
    "i(.0001)\n"
   ]
  },
  {
   "cell_type": "code",
   "execution_count": 13,
   "id": "pressed-solution",
   "metadata": {},
   "outputs": [
    {
     "data": {
      "text/html": [
       "<div>\n",
       "<style scoped>\n",
       "    .dataframe tbody tr th:only-of-type {\n",
       "        vertical-align: middle;\n",
       "    }\n",
       "\n",
       "    .dataframe tbody tr th {\n",
       "        vertical-align: top;\n",
       "    }\n",
       "\n",
       "    .dataframe thead th {\n",
       "        text-align: right;\n",
       "    }\n",
       "</style>\n",
       "<table border=\"1\" class=\"dataframe\">\n",
       "  <thead>\n",
       "    <tr style=\"text-align: right;\">\n",
       "      <th></th>\n",
       "      <th>time</th>\n",
       "      <th>open</th>\n",
       "      <th>high</th>\n",
       "      <th>low</th>\n",
       "      <th>close</th>\n",
       "      <th>Basis</th>\n",
       "      <th>Upper</th>\n",
       "      <th>Lower</th>\n",
       "      <th>Volume</th>\n",
       "      <th>Volume MA</th>\n",
       "    </tr>\n",
       "  </thead>\n",
       "  <tbody>\n",
       "    <tr>\n",
       "      <th>0</th>\n",
       "      <td>2021-03-03T04:50:00Z</td>\n",
       "      <td>1.39582</td>\n",
       "      <td>1.39592</td>\n",
       "      <td>1.39573</td>\n",
       "      <td>1.39576</td>\n",
       "      <td>1.396216</td>\n",
       "      <td>1.396605</td>\n",
       "      <td>1.395826</td>\n",
       "      <td>33</td>\n",
       "      <td>65.05</td>\n",
       "    </tr>\n",
       "    <tr>\n",
       "      <th>1</th>\n",
       "      <td>2021-03-03T04:55:00Z</td>\n",
       "      <td>1.39576</td>\n",
       "      <td>1.39578</td>\n",
       "      <td>1.39556</td>\n",
       "      <td>1.39561</td>\n",
       "      <td>1.396181</td>\n",
       "      <td>1.396649</td>\n",
       "      <td>1.395713</td>\n",
       "      <td>33</td>\n",
       "      <td>63.30</td>\n",
       "    </tr>\n",
       "    <tr>\n",
       "      <th>2</th>\n",
       "      <td>2021-03-03T05:00:00Z</td>\n",
       "      <td>1.39561</td>\n",
       "      <td>1.39596</td>\n",
       "      <td>1.39558</td>\n",
       "      <td>1.39578</td>\n",
       "      <td>1.396153</td>\n",
       "      <td>1.396646</td>\n",
       "      <td>1.395660</td>\n",
       "      <td>90</td>\n",
       "      <td>64.55</td>\n",
       "    </tr>\n",
       "    <tr>\n",
       "      <th>3</th>\n",
       "      <td>2021-03-03T05:05:00Z</td>\n",
       "      <td>1.39578</td>\n",
       "      <td>1.39584</td>\n",
       "      <td>1.39548</td>\n",
       "      <td>1.39550</td>\n",
       "      <td>1.396107</td>\n",
       "      <td>1.396660</td>\n",
       "      <td>1.395554</td>\n",
       "      <td>72</td>\n",
       "      <td>62.15</td>\n",
       "    </tr>\n",
       "    <tr>\n",
       "      <th>4</th>\n",
       "      <td>2021-03-03T05:10:00Z</td>\n",
       "      <td>1.39550</td>\n",
       "      <td>1.39580</td>\n",
       "      <td>1.39546</td>\n",
       "      <td>1.39575</td>\n",
       "      <td>1.396094</td>\n",
       "      <td>1.396667</td>\n",
       "      <td>1.395521</td>\n",
       "      <td>54</td>\n",
       "      <td>59.70</td>\n",
       "    </tr>\n",
       "  </tbody>\n",
       "</table>\n",
       "</div>"
      ],
      "text/plain": [
       "                   time     open     high      low    close     Basis  \\\n",
       "0  2021-03-03T04:50:00Z  1.39582  1.39592  1.39573  1.39576  1.396216   \n",
       "1  2021-03-03T04:55:00Z  1.39576  1.39578  1.39556  1.39561  1.396181   \n",
       "2  2021-03-03T05:00:00Z  1.39561  1.39596  1.39558  1.39578  1.396153   \n",
       "3  2021-03-03T05:05:00Z  1.39578  1.39584  1.39548  1.39550  1.396107   \n",
       "4  2021-03-03T05:10:00Z  1.39550  1.39580  1.39546  1.39575  1.396094   \n",
       "\n",
       "      Upper     Lower  Volume  Volume MA  \n",
       "0  1.396605  1.395826      33      65.05  \n",
       "1  1.396649  1.395713      33      63.30  \n",
       "2  1.396646  1.395660      90      64.55  \n",
       "3  1.396660  1.395554      72      62.15  \n",
       "4  1.396667  1.395521      54      59.70  "
      ]
     },
     "execution_count": 13,
     "metadata": {},
     "output_type": "execute_result"
    }
   ],
   "source": [
    "df.head()"
   ]
  },
  {
   "cell_type": "code",
   "execution_count": null,
   "id": "breeding-combat",
   "metadata": {},
   "outputs": [],
   "source": []
  }
 ],
 "metadata": {
  "kernelspec": {
   "display_name": "Python 3",
   "language": "python",
   "name": "python3"
  },
  "language_info": {
   "codemirror_mode": {
    "name": "ipython",
    "version": 3
   },
   "file_extension": ".py",
   "mimetype": "text/x-python",
   "name": "python",
   "nbconvert_exporter": "python",
   "pygments_lexer": "ipython3",
   "version": "3.8.0"
  }
 },
 "nbformat": 4,
 "nbformat_minor": 5
}
