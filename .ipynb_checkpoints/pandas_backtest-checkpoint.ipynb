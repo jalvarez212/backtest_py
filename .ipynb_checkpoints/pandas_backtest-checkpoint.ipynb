{
 "cells": [
  {
   "cell_type": "code",
   "execution_count": 1,
   "id": "atomic-saudi",
   "metadata": {},
   "outputs": [
    {
     "name": "stdout",
     "output_type": "stream",
     "text": [
      "Requirement already satisfied: pandas in /Library/Frameworks/Python.framework/Versions/3.8/lib/python3.8/site-packages (1.2.2)\n",
      "Requirement already satisfied: numpy>=1.16.5 in /Library/Frameworks/Python.framework/Versions/3.8/lib/python3.8/site-packages (from pandas) (1.20.1)\n",
      "Requirement already satisfied: pytz>=2017.3 in /Library/Frameworks/Python.framework/Versions/3.8/lib/python3.8/site-packages (from pandas) (2021.1)\n",
      "Requirement already satisfied: python-dateutil>=2.7.3 in /Library/Frameworks/Python.framework/Versions/3.8/lib/python3.8/site-packages (from pandas) (2.8.1)\n",
      "Requirement already satisfied: six>=1.5 in /Users/jcalvare/Library/Python/3.8/lib/python/site-packages (from python-dateutil>=2.7.3->pandas) (1.15.0)\n",
      "\u001b[33mWARNING: You are using pip version 19.2.3, however version 21.0.1 is available.\n",
      "You should consider upgrading via the 'pip install --upgrade pip' command.\u001b[0m\n",
      "Note: you may need to restart the kernel to use updated packages.\n"
     ]
    }
   ],
   "source": [
    "pip install pandas"
   ]
  },
  {
   "cell_type": "code",
   "execution_count": 2,
   "id": "green-balloon",
   "metadata": {},
   "outputs": [
    {
     "name": "stdout",
     "output_type": "stream",
     "text": [
      "Requirement already satisfied: numpy in /Library/Frameworks/Python.framework/Versions/3.8/lib/python3.8/site-packages (1.20.1)\n",
      "\u001b[33mWARNING: You are using pip version 19.2.3, however version 21.0.1 is available.\n",
      "You should consider upgrading via the 'pip install --upgrade pip' command.\u001b[0m\n",
      "Note: you may need to restart the kernel to use updated packages.\n"
     ]
    }
   ],
   "source": [
    "pip install numpy"
   ]
  },
  {
   "cell_type": "code",
   "execution_count": 3,
   "id": "aware-bible",
   "metadata": {},
   "outputs": [],
   "source": [
    "import pandas as pd\n",
    "import numpy as np"
   ]
  },
  {
   "cell_type": "code",
   "execution_count": 39,
   "id": "rational-baptist",
   "metadata": {},
   "outputs": [
    {
     "data": {
      "text/plain": [
       "'Final Profit: 2.400000000000375'"
      ]
     },
     "execution_count": 39,
     "metadata": {},
     "output_type": "execute_result"
    }
   ],
   "source": [
    "# Load datas\n",
    "df = pd.read_csv('oanda_data.csv', sep=',')\n",
    "r = df.iterrows()\n",
    "#print(r)\n",
    "#print(len(df))\n",
    "\n",
    "\n",
    "\n",
    "def i(x):\n",
    "    index = 0\n",
    "    position_size = 0\n",
    "    buffer = 0\n",
    "    status = 'usd'\n",
    "    profit = 0\n",
    "    buy_price = 0\n",
    "    sell_price = 0\n",
    "    for row in r:\n",
    "        index += 1\n",
    "        if row[1][3] < row[1][6] and status == 'usd':\n",
    "            #index +=1\n",
    "            close_price = row[1][3]\n",
    "            lower_band = row[1][6]\n",
    "            buy_price = next(r)[1][0] \n",
    "            sell_price = buy_price + x # x is equal to the sell price\n",
    "            status = 'jpy'\n",
    "            \n",
    "            #print('buy price: '+str(buy_price))\n",
    "            #print('sell price: '+str(sell_price))\n",
    "            #print('status: '+status)\n",
    "            #print('--------------------------')\n",
    "        \n",
    "            #position_size += 100\n",
    "            #buffer += buy_price\n",
    "            #avg_price = buffer/index\n",
    "        if row[1][1] > sell_price and status == 'jpy':\n",
    "            profit += sell_price - buy_price # y is equal to the proft\n",
    "            status = 'usd'\n",
    "            #print(index)\n",
    "            #print('proft: '+str(profit))\n",
    "            #print('status: '+status)\n",
    "            #print('--------------------------')\n",
    "    return 'Final Profit: '+str(profit)\n",
    "            \n",
    "                    \n",
    "i(.04)\n",
    "\n",
    "    "
   ]
  },
  {
   "cell_type": "code",
   "execution_count": 42,
   "id": "numerous-pottery",
   "metadata": {},
   "outputs": [
    {
     "name": "stdout",
     "output_type": "stream",
     "text": [
      "Final Profit: 0\n",
      "Final Profit: 0\n",
      "Final Profit: 0\n",
      "Final Profit: 0\n",
      "Final Profit: 0\n",
      "Final Profit: 0\n",
      "Final Profit: 0\n",
      "Final Profit: 0\n",
      "Final Profit: 0\n",
      "Final Profit: 0\n",
      "Final Profit: 0\n",
      "Final Profit: 0\n",
      "Final Profit: 0\n",
      "Final Profit: 0\n",
      "Final Profit: 0\n",
      "Final Profit: 0\n",
      "Final Profit: 0\n",
      "Final Profit: 0\n",
      "Final Profit: 0\n",
      "Final Profit: 0\n",
      "Final Profit: 0\n",
      "Final Profit: 0\n",
      "Final Profit: 0\n",
      "Final Profit: 0\n",
      "Final Profit: 0\n",
      "Final Profit: 0\n",
      "Final Profit: 0\n",
      "Final Profit: 0\n",
      "Final Profit: 0\n",
      "Final Profit: 0\n",
      "Final Profit: 0\n",
      "Final Profit: 0\n",
      "Final Profit: 0\n",
      "Final Profit: 0\n",
      "Final Profit: 0\n",
      "Final Profit: 0\n",
      "Final Profit: 0\n",
      "Final Profit: 0\n",
      "Final Profit: 0\n",
      "Final Profit: 0\n",
      "Final Profit: 0\n",
      "Final Profit: 0\n",
      "Final Profit: 0\n",
      "Final Profit: 0\n",
      "Final Profit: 0\n",
      "Final Profit: 0\n",
      "Final Profit: 0\n",
      "Final Profit: 0\n",
      "Final Profit: 0\n",
      "Final Profit: 0\n",
      "Final Profit: 0\n",
      "Final Profit: 0\n",
      "Final Profit: 0\n",
      "Final Profit: 0\n",
      "Final Profit: 0\n",
      "Final Profit: 0\n",
      "Final Profit: 0\n",
      "Final Profit: 0\n",
      "Final Profit: 0\n",
      "Final Profit: 0\n",
      "Final Profit: 0\n",
      "Final Profit: 0\n",
      "Final Profit: 0\n",
      "Final Profit: 0\n",
      "Final Profit: 0\n",
      "Final Profit: 0\n",
      "Final Profit: 0\n",
      "Final Profit: 0\n",
      "Final Profit: 0\n",
      "Final Profit: 0\n",
      "Final Profit: 0\n",
      "Final Profit: 0\n",
      "Final Profit: 0\n",
      "Final Profit: 0\n",
      "Final Profit: 0\n",
      "Final Profit: 0\n",
      "Final Profit: 0\n",
      "Final Profit: 0\n",
      "Final Profit: 0\n",
      "Final Profit: 0\n",
      "Final Profit: 0\n",
      "Final Profit: 0\n",
      "Final Profit: 0\n",
      "Final Profit: 0\n",
      "Final Profit: 0\n",
      "Final Profit: 0\n",
      "Final Profit: 0\n",
      "Final Profit: 0\n",
      "Final Profit: 0\n",
      "Final Profit: 0\n",
      "Final Profit: 0\n",
      "Final Profit: 0\n",
      "Final Profit: 0\n",
      "Final Profit: 0\n",
      "Final Profit: 0\n",
      "Final Profit: 0\n",
      "Final Profit: 0\n",
      "Final Profit: 0\n",
      "Final Profit: 0\n",
      "Final Profit: 0\n"
     ]
    }
   ],
   "source": [
    "def counter(p):\n",
    "    count = 0.00\n",
    "    inc = 0.01\n",
    "    if count < p:\n",
    "        count += inc\n",
    "        print( i(count) )\n",
    "\n",
    "counter(1)\n"
   ]
  },
  {
   "cell_type": "code",
   "execution_count": null,
   "id": "accomplished-toyota",
   "metadata": {},
   "outputs": [],
   "source": []
  }
 ],
 "metadata": {
  "kernelspec": {
   "display_name": "Python 3",
   "language": "python",
   "name": "python3"
  },
  "language_info": {
   "codemirror_mode": {
    "name": "ipython",
    "version": 3
   },
   "file_extension": ".py",
   "mimetype": "text/x-python",
   "name": "python",
   "nbconvert_exporter": "python",
   "pygments_lexer": "ipython3",
   "version": "3.8.0"
  }
 },
 "nbformat": 4,
 "nbformat_minor": 5
}
